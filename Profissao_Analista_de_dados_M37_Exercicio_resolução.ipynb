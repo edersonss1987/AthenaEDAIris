{
  "nbformat": 4,
  "nbformat_minor": 0,
  "metadata": {
    "colab": {
      "provenance": [],
      "collapsed_sections": [
        "JG1HL69-j0lH",
        "s_Dj-BgThLg5",
        "jeEzLmuRhDQy",
        "PoTeRwlihDQ0",
        "QpMlxqRyhDQ1",
        "ov7Fg-mWhDQ1",
        "DvHPNAoPgdiG",
        "3SMp5GwjglJm",
        "e3ieQfXTgqd3",
        "L0pKWNr5fm9z",
        "DMhCpOU_gupo",
        "l3h0WP2Eg2ht",
        "rWG4Vk6XaWtf",
        "wkibgd8rB8y3",
        "IjPaJtnYE0MI",
        "2lpj1rszc--m",
        "HnWg_mhLd5gC",
        "RhqmXiHQo-is",
        "SvT9xrajLL7J",
        "91eSyA2cLLqv"
      ]
    },
    "kernelspec": {
      "name": "python3",
      "display_name": "Python 3"
    }
  },
  "cells": [
    {
      "cell_type": "markdown",
      "metadata": {
        "id": "KJqp9AANOCtf"
      },
      "source": [
        "<img src=\"https://raw.githubusercontent.com/andre-marcos-perez/ebac-course-utils/main/media/logo/newebac_logo_black_half.png\" alt=\"ebac-logo\">\n",
        "\n",
        "---\n",
        "\n",
        "# **Módulo** | Computação em Nuvem I\n",
        "Caderno de **Exercícios**<br>\n",
        "Professor [André Perez](https://www.linkedin.com/in/andremarcosperez/)\n",
        "\n",
        "---"
      ]
    },
    {
      "cell_type": "markdown",
      "metadata": {
        "id": "d9jDtUbDOE1-"
      },
      "source": [
        "# **Tópicos**\n",
        "\n",
        "<ol type=\"1\">\n",
        "  <li>Amazon Web Services;</li>\n",
        "  <li>AWS IAM;</li>\n",
        "  <li>AWS S3;</li>\n",
        "  <li>AWS Athena.</li>\n",
        "</ol>"
      ]
    },
    {
      "cell_type": "markdown",
      "metadata": {
        "id": "SmoHgt-lwkpD"
      },
      "source": [
        "---"
      ]
    },
    {
      "cell_type": "markdown",
      "metadata": {
        "id": "GABI6OW8OfQ2"
      },
      "source": [
        "# **Exercícios**"
      ]
    },
    {
      "cell_type": "markdown",
      "source": [
        "# **ANALISE DE DADOS NO ATHENA AWS** | Computação em Nuvem"
      ],
      "metadata": {
        "id": "P_zMpLVBO5L0"
      }
    },
    {
      "cell_type": "markdown",
      "source": [
        "***Sobre os dados***:\n",
        "\n",
        "**Explorando o Conjunto de Dados das Espécies de Íris**\n",
        "\n",
        "*O conjunto de dados sobre as espécies de íris é uma rica fonte de informações que nos permite compreender as nuances das características morfológicas dessas flores. Estes dados, muitas vezes utilizados em estudos botânicos e análises estatísticas, oferecem insights valiosos sobre as diferenças distintas entre as três principais espécies: Virginica, Setosa e Versicolor.*\n",
        "\n",
        "* Por tanto, esses dados são facilmente extraídos da biblioteca Seaborn, nesta situação baixamos o conjunto de dados via Python usando o google colab.\n"
      ],
      "metadata": {
        "id": "WmESyUOzP00A"
      }
    },
    {
      "cell_type": "markdown",
      "source": [
        "```python\n",
        "import seaborn as sns\n",
        "import pandas as pd\n",
        "\n",
        "iris= sns.load_dataset('iris')\n",
        "iris.to_csv('iris.csv', index=False, header=False)\n",
        "\n",
        "\n",
        "```"
      ],
      "metadata": {
        "id": "AuMMuJhPOVd2"
      }
    },
    {
      "cell_type": "markdown",
      "source": [
        "* Após baixarmor o conjunto de dados, usaremos computação e, nuvem para tratamento das informações, isso para aprimorar a prática, então decidi trabalhar os conceitos da AWS S3 e ATHENA, usando os serviços que amplamente vem crescendo.\n"
      ],
      "metadata": {
        "id": "WkxlFez6XuSe"
      }
    },
    {
      "cell_type": "markdown",
      "source": [
        "# **AWS**\n",
        "\n",
        "---\n",
        "\n"
      ],
      "metadata": {
        "id": "j8CSaKZeaw3K"
      }
    },
    {
      "cell_type": "markdown",
      "source": [
        "\n",
        "\n",
        "**1.   CRIAÇÃO DO BUCKET NO S3**\n",
        "\n",
        "\n",
        "---\n",
        "\n",
        "\n",
        "\n",
        "Definido o nome do Buket\n",
        "* bucket-eder-iris\n",
        "* Importado o Arquivo iris.csv\n",
        "\n"
      ],
      "metadata": {
        "id": "XyujK9p7UBWw"
      }
    },
    {
      "cell_type": "markdown",
      "source": [
        "\n",
        "**2.   CRIAÇÃO DA BASE DE DADOS NO ATHENA**\n",
        "* Basedo no conjunto de dados, criamos a tabela com seus devidos tipos.\n",
        "\n",
        "\n",
        "---\n",
        "\n",
        "\n",
        "```sql\n",
        "CREATE EXTERNAL TABLE iris(\n",
        "sepal_length double,\n",
        "sepal_width double,\n",
        "petal_length double,\n",
        "petal_width double,\n",
        "specie string\n",
        "\n",
        ") ROW FORMAT SERDE 'org.apache.hadoop.hive.serde2.lazy.LazySimpleSerDe'\n",
        "WITH SERDEPROPERTIES ( 'serialization.format' = ',', 'field.delim' = ',' )\n",
        "LOCATION 's3://bucket-eder-iris/' TBLPROPERTIES ('has_encrypted_data'='false')\n",
        "```"
      ],
      "metadata": {
        "id": "OiFcmw-9X2jx"
      }
    },
    {
      "cell_type": "markdown",
      "source": [
        "\n",
        "*A computação em nuvem tem desempenhado um papel transformador em diversas áreas da tecnologia e negócios, oferecendo uma série de benefícios que impactam positivamente organizações e usuários individuais. Aqui estão algumas razões:*\n",
        "\n",
        "\n",
        "\n",
        "**1. Acessibilidade Global:**\n",
        "* A computação em nuvem permite o acesso remoto a recursos computacionais a partir de qualquer lugar do mundo, desde que haja uma conexão à internet. Isso é crucial para empresas globais, equipes distribuídas e usuários individuais que buscam flexibilidade e mobilidade.\n",
        "Economia de Custos:\n",
        "\n",
        "\n",
        "**2. Diminuoção de custos:**\n",
        "* Ao utilizar serviços em nuvem, as organizações podem reduzir significativamente seus custos de infraestrutura. Em vez de investir em hardware e manutenção física, elas podem alugar recursos conforme necessário, pagando apenas pelo que utilizam. Isso possibilita a redução de despesas operacionais e a alocação mais eficiente de recursos financeiros.\n",
        "\n",
        "\n",
        "**3. Escalabilidade:**\n",
        "* Os serviços em nuvem oferecem escalabilidade instantânea. Empresas podem facilmente aumentar ou diminuir os recursos computacionais conforme a demanda, evitando a necessidade de investir antecipadamente em infraestrutura que talvez não seja totalmente utilizada."
      ],
      "metadata": {
        "id": "h9uEyjr5O4TR"
      }
    },
    {
      "cell_type": "markdown",
      "source": [
        "# **CONSULTAS SQL NO ATHENA**"
      ],
      "metadata": {
        "id": "TEIyrGreauM4"
      }
    },
    {
      "cell_type": "markdown",
      "source": [
        "# **1. Exploração dos dados**\n",
        "* A exploração de dados refere-se ao processo de investigação e análise inicial de conjuntos de dados para extrair informações relevantes e insights. Essa prática é fundamental para compreender a natureza dos dados disponíveis e identificar padrões ou tendências significativas. A exploração de dados geralmente envolve a utilização de técnicas estatísticas e visualizações para fornecer uma visão mais clara e compreensível dos dados. Esse processo é crucial para a tomada de decisões informada, identificação de oportunidades, detecção de padrões e anomalias, bem como para o suporte à inovação e ao desenvolvimento estratégico. A exploração de dados é uma etapa inicial essencial em qualquer projeto de análise de dados, pois ajuda a definir as direções subsequentes da análise e a maximizar o valor dos dados disponíveis.\n",
        "\n",
        "```sql\n",
        "\n",
        "-- Consultando as primeiras 10 linhas da tabela, para entender os dados\n",
        "\n",
        "select * from iris limit 10\n",
        "\n",
        "```\n",
        "![](https://github.com/edersonss1987/AthenaEDAIris/blob/main/from_limit_10.png?raw=true)\n",
        "\n",
        "\n",
        "\n",
        "---\n",
        "\n",
        "```sql\n",
        "\n",
        "-- Verificanfo o total de linhas no nosso conjunto de dados\n",
        "\n",
        "select count(*) as Total_de_linhas from iris\n",
        "\n",
        "```\n",
        "![](https://github.com/edersonss1987/AthenaEDAIris/blob/main/total_de_linhas.png?raw=true)\n",
        "\n",
        "\n",
        "\n",
        "---\n",
        "\n",
        "\n",
        "```sql\n",
        "\n",
        "--contagem de dados por espécie de flor, agrupado\n",
        "\n",
        "select count(*)as Total_por_tipo, specie from iris where specie in ('setosa', 'virginica','versicolor') group by specie;\n",
        "\n",
        "\n",
        "```\n",
        "![](https://github.com/edersonss1987/AthenaEDAIris/blob/main/total_por_especie.png?raw=true)\n"
      ],
      "metadata": {
        "id": "kwn6omzwbhtT"
      }
    },
    {
      "cell_type": "markdown",
      "source": [
        "\n",
        "# **2. Analise Exploratória dos dados**\n",
        "* O objetivo é conhecer nossos dados, para que possamos realizar pergunta e extrairmos informações e/ou Insigths, a análise de dados é essencial para aproveitar o potencial dos dados disponíveis, transformando informações brutas em conhecimentos acionáveis. Essa prática tornou-se uma ferramenta essencial em diversos setores, capacitando as organizações a prosperar em um ambiente cada vez mais orientado por dados.\n",
        "\n",
        "\n",
        "---\n",
        "\n",
        "\n",
        "\n",
        "```sql\n",
        "\n",
        "-- Valores das Médias para cada pétala e sépala\n",
        "-- Desta forma podemos olhar os numeros, comparar as médias\n",
        "\n",
        "select\n",
        "    specie,\n",
        "    round(avg(sepal_length), 4) as media_de_Comprimento_da_sepala,\n",
        "    round(avg(sepal_width),  4) as media_de_Largura_da_sepala,\n",
        "    round(avg(petal_length), 4) as media_de_Comprimento_da_petala,\n",
        "    round(avg(petal_width),  4) as media_de_Largura_da_petala\n",
        "from iris\n",
        "group by specie\n",
        "order by media_de_Comprimento_da_sepala desc\n",
        "```\n",
        "![](https://github.com/edersonss1987/AthenaEDAIris/blob/main/medias.png?raw=true)\n",
        "\n",
        "\n",
        "\n",
        "---\n",
        "\n",
        "\n",
        "\n",
        "```sql\n",
        "\n",
        "-- Valores máximos e mínimos para cada petala, sepala.\n",
        "\n",
        "SELECT specie,\n",
        "    MAX(sepal_length) AS max_sepal_length,\n",
        "    MAX(sepal_width) AS max_sepal_width,\n",
        "    MAX(petal_length) AS max_petal_length,\n",
        "    MAX(petal_width) AS max_petal_width,\n",
        "    MIN(sepal_length) AS min_sepal_length,\n",
        "    MIN(sepal_width) AS min_sepal_width,\n",
        "    MIN(petal_length) AS min_petal_length,\n",
        "    MIN(petal_width) AS min_petal_width\n",
        "FROM iris\n",
        "group by specie order by max_sepal_length desc\n",
        "```\n",
        "![](https://github.com/edersonss1987/AthenaEDAIris/blob/main/max_min.png?raw=true)"
      ],
      "metadata": {
        "id": "dTfbDXGPlwTA"
      }
    },
    {
      "cell_type": "markdown",
      "source": [
        "# **3. CONCLUSÃO**\n",
        "\n",
        "* ***Análise Comparativa das Espécies de Iris: Virginica, Setosa e Versicolor***\n",
        "\n",
        "Ao explorarmos as características morfológicas das três espécies de íris - Virginica, Setosa e Versicolor - é evidente que cada uma delas possui distintas dimensões em suas sépalas e pétalas. Vamos examinar detalhadamente as características que diferenciam essas espécies.\n",
        "\n",
        "1. **Virginica: A Majestosa**\n",
        "A Virginica destaca-se por apresentar as maiores dimensões em termos de comprimento tanto em sépalas quanto em pétalas. As consultas médias, máximas e mínimas revelam que suas pétalas são especialmente notáveis, sendo mais longas e largas em comparação com as outras espécies. Além disso, ao analisarmos a largura das sépalas, percebemos que ela ocupa uma posição intermediária entre a Setosa e a Versicolor. Dessa forma, concluímos que, dentre as três espécies, a Virginica é a maior em termos de dimensões.\n",
        "\n",
        "2. **Setosa: A Delicada**\n",
        "Contrastando com a Virginica, a Setosa exibe características opostas. Suas dimensões são consistentemente menores, evidenciadas pelo menor comprimento em sépalas e pétalas. Além disso, destaca-se por ter a maior largura de sépala e a menor largura de pétala. A Setosa, portanto, se destaca como a menor entre as três espécies de íris.\n",
        "\n",
        "3. **Versicolor: O Meio Termo Equilibrado**\n",
        "A Versicolor, ao contrário da Virginica e da Setosa, mostra-se como uma espécie equilibrada em termos de dimensões. Suas medidas estão situadas entre as valores de Virginica e Setosa, exceto pela largura média e máxima das sépalas, que são menores em comparação com as outras espécies. Em relação à largura de pétala, ela se encontra na mediana entre as três. Dessa forma, podemos concluir que a Versicolor não se destaca como a maior nem a menor, mas sim como o meio termo em termos de dimensões.\n",
        "\n",
        "Essa análise das características morfológicas das espécies de íris fornece uma compreensão mais aprofundada de suas diferenças e semelhanças. Cada uma delas possui suas características únicas.\n",
        "\n",
        "![](https://github.com/edersonss1987/AthenaEDAIris/blob/main/todas%20juntas.png?raw=true)"
      ],
      "metadata": {
        "id": "wvXiRyUpqRsc"
      }
    },
    {
      "cell_type": "markdown",
      "source": [
        "![](https://upload.wikimedia.org/wikipedia/commons/thumb/9/9f/Iris_virginica.jpg/884px-Iris_virginica.jpg/)"
      ],
      "metadata": {
        "id": "7j00MOEFdtL-"
      }
    }
  ]
}